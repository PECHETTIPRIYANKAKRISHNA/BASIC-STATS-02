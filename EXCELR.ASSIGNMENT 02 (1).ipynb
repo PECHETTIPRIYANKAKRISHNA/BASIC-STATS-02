{
 "cells": [
  {
   "cell_type": "markdown",
   "id": "f6b4ecfe",
   "metadata": {},
   "source": [
    "### SET 01"
   ]
  },
  {
   "cell_type": "markdown",
   "id": "615e0407",
   "metadata": {},
   "source": [
    "1.Look at the data given below. Plot the data, find the outliers and find out  μ,σ,σ^2"
   ]
  },
  {
   "cell_type": "code",
   "execution_count": 1,
   "id": "f3bb51b0",
   "metadata": {},
   "outputs": [],
   "source": [
    "import pandas as pd\n",
    "import numpy as np\n",
    "import matplotlib.pyplot as plt\n",
    "import seaborn as sns"
   ]
  },
  {
   "cell_type": "code",
   "execution_count": 2,
   "id": "c2aae67a",
   "metadata": {},
   "outputs": [
    {
     "data": {
      "text/html": [
       "<div>\n",
       "<style scoped>\n",
       "    .dataframe tbody tr th:only-of-type {\n",
       "        vertical-align: middle;\n",
       "    }\n",
       "\n",
       "    .dataframe tbody tr th {\n",
       "        vertical-align: top;\n",
       "    }\n",
       "\n",
       "    .dataframe thead th {\n",
       "        text-align: right;\n",
       "    }\n",
       "</style>\n",
       "<table border=\"1\" class=\"dataframe\">\n",
       "  <thead>\n",
       "    <tr style=\"text-align: right;\">\n",
       "      <th></th>\n",
       "      <th>Name of company</th>\n",
       "      <th>Measure X</th>\n",
       "    </tr>\n",
       "  </thead>\n",
       "  <tbody>\n",
       "    <tr>\n",
       "      <th>0</th>\n",
       "      <td>Allied Signal</td>\n",
       "      <td>0.2423</td>\n",
       "    </tr>\n",
       "    <tr>\n",
       "      <th>1</th>\n",
       "      <td>Bankers Trust</td>\n",
       "      <td>0.2553</td>\n",
       "    </tr>\n",
       "    <tr>\n",
       "      <th>2</th>\n",
       "      <td>General Mills</td>\n",
       "      <td>0.2541</td>\n",
       "    </tr>\n",
       "    <tr>\n",
       "      <th>3</th>\n",
       "      <td>ITT Industries</td>\n",
       "      <td>0.2414</td>\n",
       "    </tr>\n",
       "    <tr>\n",
       "      <th>4</th>\n",
       "      <td>J.P.Morgan &amp; Co.</td>\n",
       "      <td>0.2962</td>\n",
       "    </tr>\n",
       "    <tr>\n",
       "      <th>5</th>\n",
       "      <td>Lehman Brothers</td>\n",
       "      <td>0.2825</td>\n",
       "    </tr>\n",
       "    <tr>\n",
       "      <th>6</th>\n",
       "      <td>Marriott</td>\n",
       "      <td>0.2581</td>\n",
       "    </tr>\n",
       "    <tr>\n",
       "      <th>7</th>\n",
       "      <td>MCI</td>\n",
       "      <td>0.2439</td>\n",
       "    </tr>\n",
       "    <tr>\n",
       "      <th>8</th>\n",
       "      <td>Merrill Lynch</td>\n",
       "      <td>0.4026</td>\n",
       "    </tr>\n",
       "    <tr>\n",
       "      <th>9</th>\n",
       "      <td>Microsoft</td>\n",
       "      <td>0.3295</td>\n",
       "    </tr>\n",
       "    <tr>\n",
       "      <th>10</th>\n",
       "      <td>Morgan Stanley</td>\n",
       "      <td>0.9136</td>\n",
       "    </tr>\n",
       "    <tr>\n",
       "      <th>11</th>\n",
       "      <td>Sun Microsystems</td>\n",
       "      <td>0.2599</td>\n",
       "    </tr>\n",
       "    <tr>\n",
       "      <th>12</th>\n",
       "      <td>Travelers</td>\n",
       "      <td>0.3942</td>\n",
       "    </tr>\n",
       "    <tr>\n",
       "      <th>13</th>\n",
       "      <td>US Airways</td>\n",
       "      <td>0.2671</td>\n",
       "    </tr>\n",
       "    <tr>\n",
       "      <th>14</th>\n",
       "      <td>Warner-Lambert</td>\n",
       "      <td>0.3500</td>\n",
       "    </tr>\n",
       "  </tbody>\n",
       "</table>\n",
       "</div>"
      ],
      "text/plain": [
       "     Name of company  Measure X\n",
       "0      Allied Signal     0.2423\n",
       "1      Bankers Trust     0.2553\n",
       "2      General Mills     0.2541\n",
       "3     ITT Industries     0.2414\n",
       "4   J.P.Morgan & Co.     0.2962\n",
       "5    Lehman Brothers     0.2825\n",
       "6           Marriott     0.2581\n",
       "7                MCI     0.2439\n",
       "8      Merrill Lynch     0.4026\n",
       "9          Microsoft     0.3295\n",
       "10    Morgan Stanley     0.9136\n",
       "11  Sun Microsystems     0.2599\n",
       "12         Travelers     0.3942\n",
       "13        US Airways     0.2671\n",
       "14    Warner-Lambert     0.3500"
      ]
     },
     "execution_count": 2,
     "metadata": {},
     "output_type": "execute_result"
    }
   ],
   "source": [
    "dataq1=pd.read_excel(\"C:\\\\Users\\\\PRIYANKA\\\\Downloads\\\\dataq1.xlsx\")\n",
    "dataq1"
   ]
  },
  {
   "cell_type": "code",
   "execution_count": 3,
   "id": "3f016fab",
   "metadata": {},
   "outputs": [
    {
     "name": "stdout",
     "output_type": "stream",
     "text": [
      "mean of the Measure X: 0.3327133333333333\n"
     ]
    }
   ],
   "source": [
    "a=dataq1['Measure X'].mean()\n",
    "print('mean of the Measure X:',a)"
   ]
  },
  {
   "cell_type": "code",
   "execution_count": 4,
   "id": "4445ce57",
   "metadata": {},
   "outputs": [
    {
     "name": "stdout",
     "output_type": "stream",
     "text": [
      "standard deviation of the Measure X: 0.16945400921222029\n"
     ]
    }
   ],
   "source": [
    "b=dataq1['Measure X'].std()\n",
    "print('standard deviation of the Measure X:',b)"
   ]
  },
  {
   "cell_type": "code",
   "execution_count": 5,
   "id": "ef831e01",
   "metadata": {},
   "outputs": [
    {
     "name": "stdout",
     "output_type": "stream",
     "text": [
      "variance of the Measure X: 0.028714661238095233\n"
     ]
    }
   ],
   "source": [
    "c=dataq1['Measure X'].var()\n",
    "print('variance of the Measure X:',c)"
   ]
  },
  {
   "cell_type": "code",
   "execution_count": 6,
   "id": "8535a954",
   "metadata": {},
   "outputs": [
    {
     "name": "stderr",
     "output_type": "stream",
     "text": [
      "C:\\Users\\PRIYANKA\\Anaconda3\\lib\\site-packages\\seaborn\\_decorators.py:36: FutureWarning: Pass the following variable as a keyword arg: x. From version 0.12, the only valid positional argument will be `data`, and passing other arguments without an explicit keyword will result in an error or misinterpretation.\n",
      "  warnings.warn(\n"
     ]
    },
    {
     "data": {
      "image/png": "[encoded data removed]",
      "text/plain": [
       "<Figure size 432x288 with 1 Axes>"
      ]
     },
     "metadata": {
      "needs_background": "light"
     },
     "output_type": "display_data"
    }
   ],
   "source": [
    "sns.boxplot(dataq1['Measure X'])\n",
    "plt.show()\n",
    "import warnings\n",
    "warnings.filterwarnings(\"ignore\")"
   ]
  },
  {
   "cell_type": "raw",
   "id": "bc702df0",
   "metadata": {},
   "source": [
    "2.FOR EG"
   ]
  },
  {
   "cell_type": "code",
   "execution_count": 7,
   "id": "5f64dfc3",
   "metadata": {},
   "outputs": [],
   "source": [
    "a=pd.Series([0,1,2,3,4,5,7,9,12,19,25])"
   ]
  },
  {
   "cell_type": "code",
   "execution_count": 8,
   "id": "a927cd13",
   "metadata": {},
   "outputs": [
    {
     "data": {
      "text/plain": [
       "<AxesSubplot:>"
      ]
     },
     "execution_count": 8,
     "metadata": {},
     "output_type": "execute_result"
    },
    {
     "data": {
      "image/png": "[encoded data removed]",
      "text/plain": [
       "<Figure size 432x288 with 1 Axes>"
      ]
     },
     "metadata": {
      "needs_background": "light"
     },
     "output_type": "display_data"
    }
   ],
   "source": [
    "sns.boxplot(a)"
   ]
  },
  {
   "cell_type": "code",
   "execution_count": 9,
   "id": "69f0cb5e",
   "metadata": {},
   "outputs": [],
   "source": [
    "b=pd.Series([0,1,2,3,4,5,7,9,12,19,2.5])"
   ]
  },
  {
   "cell_type": "code",
   "execution_count": 10,
   "id": "9e0e5f23",
   "metadata": {},
   "outputs": [
    {
     "data": {
      "text/plain": [
       "<AxesSubplot:>"
      ]
     },
     "execution_count": 10,
     "metadata": {},
     "output_type": "execute_result"
    },
    {
     "data": {
      "image/png": "[encoded data removed]",
      "text/plain": [
       "<Figure size 432x288 with 1 Axes>"
      ]
     },
     "metadata": {
      "needs_background": "light"
     },
     "output_type": "display_data"
    }
   ],
   "source": [
    "sns.boxplot(b)"
   ]
  },
  {
   "cell_type": "code",
   "execution_count": 11,
   "id": "2f0aec9f",
   "metadata": {},
   "outputs": [
    {
     "data": {
      "text/plain": [
       "5.0"
      ]
     },
     "execution_count": 11,
     "metadata": {},
     "output_type": "execute_result"
    }
   ],
   "source": [
    "a.median()"
   ]
  },
  {
   "cell_type": "code",
   "execution_count": 12,
   "id": "24ae6275",
   "metadata": {},
   "outputs": [
    {
     "data": {
      "text/plain": [
       "4.0"
      ]
     },
     "execution_count": 12,
     "metadata": {},
     "output_type": "execute_result"
    }
   ],
   "source": [
    "b.median()"
   ]
  },
  {
   "cell_type": "raw",
   "id": "609bfd76",
   "metadata": {},
   "source": [
    "3"
   ]
  },
  {
   "cell_type": "code",
   "execution_count": 13,
   "id": "87668254",
   "metadata": {},
   "outputs": [
    {
     "data": {
      "text/plain": [
       "(array([4., 2., 2., 1., 0., 0., 1., 1.]),\n",
       " array([ 0.   ,  3.125,  6.25 ,  9.375, 12.5  , 15.625, 18.75 , 21.875,\n",
       "        25.   ]),\n",
       " <BarContainer object of 8 artists>)"
      ]
     },
     "execution_count": 13,
     "metadata": {},
     "output_type": "execute_result"
    },
    {
     "data": {
      "image/png": "[encoded data removed]",
      "text/plain": [
       "<Figure size 432x288 with 1 Axes>"
      ]
     },
     "metadata": {
      "needs_background": "light"
     },
     "output_type": "display_data"
    }
   ],
   "source": [
    "plt.hist(a,bins=8)"
   ]
  },
  {
   "cell_type": "raw",
   "id": "124e7d90",
   "metadata": {},
   "source": [
    "4.AT&T was running commercials in 1990 aimed at luring back customers who had switched to one of the other long-distance phone service providers. One such commercial shows a businessman trying to reach Phoenix and mistakenly getting Fiji, where a half-naked native on a beach responds incomprehensibly in Polynesian. When asked about this advertisement, AT&T admitted that the portrayed incident did not actually take place but added that this was an enactment of something that “could happen.” Suppose that one in 200 long-distance telephone calls is misdirected. What is the probability that at least one in five attempted telephone calls reaches the wrong number? (Assume independence of attempts.)\n",
    "\n",
    "A:One in 200 long distance telephone calls is misdirected.\n",
    "i.e, The probability of misdirecting is 1/200\n",
    "       The probability of not misdirecting is 1-1/200=199/200\n",
    "\n",
    "Number of Calls =5\n",
    "\n",
    "PROBABILITY CALUCULATION:\n",
    "\n",
    "no of calls\t prob of not misdirecting\tprobability of telephone calls reaches wrong no\n",
    "1                0.995                              3.10938E-09\n",
    "2\t             0.995                           \t1.23753E-06\n",
    "3\t             0.995                            \t0.000246269\n",
    "4\t             0.995                           \t0.024503738\n",
    "5\t             0.995                             \t0.975248753\n",
    "\n",
    "\n",
    "Here, as we need to find the probability that at least one in five attempted telephone calls reaches the wrong number\n",
    "i.e, 1-0.9752=0.024751247\n"
   ]
  },
  {
   "cell_type": "markdown",
   "id": "9ced5f3a",
   "metadata": {},
   "source": [
    "### ============================================================================================="
   ]
  },
  {
   "cell_type": "markdown",
   "id": "801c442f",
   "metadata": {},
   "source": [
    "###  SET 02"
   ]
  },
  {
   "cell_type": "markdown",
   "id": "afbce19f",
   "metadata": {},
   "source": [
    "1.\tThe time required for servicing transmissions is normally distributed with MEAN = 45 minutes and STD = 8 minutes. The service manager plans to have work begin on the transmission of a customer’s car 10 minutes after the car is dropped off and the customer is told that the car will be ready within 1 hour from drop-off. What is the probability that the service manager cannot meet his commitment? \n",
    "A.\t0.3875   \n",
    "B.\t0.2676   \n",
    "C.\t0.5   \n",
    "D.\t0.6987 \n",
    "\n",
    "\n",
    "A: From the above data mean=45min, std=8min, X=50mins\n",
    "  Here we use the z-scores\n",
    "  the pval=0.2659\n",
    "   \n",
    "  Hence we can conclude that, the probability that the service manager cannot meet his commitment would be 0.2676"
   ]
  },
  {
   "cell_type": "code",
   "execution_count": 14,
   "id": "ca394377",
   "metadata": {},
   "outputs": [],
   "source": [
    "import pandas as pd\n",
    "import numpy as np\n",
    "import matplotlib.pyplot as plt\n",
    "import seaborn as sns\n",
    "from scipy import stats\n",
    "from scipy.stats import norm"
   ]
  },
  {
   "cell_type": "code",
   "execution_count": 15,
   "id": "e3293c37",
   "metadata": {},
   "outputs": [
    {
     "data": {
      "text/plain": [
       "0.625"
      ]
     },
     "execution_count": 15,
     "metadata": {},
     "output_type": "execute_result"
    }
   ],
   "source": [
    "#z=(x=mean)/mu\n",
    "\n",
    "z=(50-45)/8\n",
    "z"
   ]
  },
  {
   "cell_type": "code",
   "execution_count": 16,
   "id": "8c1db155",
   "metadata": {},
   "outputs": [
    {
     "data": {
      "text/plain": [
       "0.7340144709512995"
      ]
     },
     "execution_count": 16,
     "metadata": {},
     "output_type": "execute_result"
    }
   ],
   "source": [
    "stats.norm.cdf(0.625)"
   ]
  },
  {
   "cell_type": "code",
   "execution_count": 17,
   "id": "2d688196",
   "metadata": {},
   "outputs": [
    {
     "data": {
      "text/plain": [
       "0.26598552904870054"
      ]
     },
     "execution_count": 17,
     "metadata": {},
     "output_type": "execute_result"
    }
   ],
   "source": [
    "1-stats.norm.cdf(0.625)"
   ]
  },
  {
   "cell_type": "raw",
   "id": "20e17a4e",
   "metadata": {},
   "source": [
    "2.\tThe current age (in years) of 400 clerical employees at an insurance claims processing center is normally distributed with mean = 38 and Standard deviation =6. For each statement below, please specify True/False. If false, briefly explain why.\n",
    "\n",
    "A.\tMore employees at the processing center are older than 44 than between 38 and 44.\n",
    "B.\tA training program for employees under the age of 30 at the center would be expected to attract about 36 employees.\n",
    "\n",
    "A: From the above data we can say that\n",
    "   X=400, mean=38, std=6, N=400\n",
    "   "
   ]
  },
  {
   "cell_type": "code",
   "execution_count": 18,
   "id": "76e3a110",
   "metadata": {},
   "outputs": [],
   "source": [
    "import pandas as pd\n",
    "import numpy as np\n",
    "import matplotlib.pyplot as plt\n",
    "import seaborn as sns\n",
    "from scipy import stats\n",
    "from scipy.stats import norm"
   ]
  },
  {
   "cell_type": "code",
   "execution_count": 19,
   "id": "f1e80413",
   "metadata": {},
   "outputs": [
    {
     "name": "stdout",
     "output_type": "stream",
     "text": [
      "employees age less than 44 is: 0.8413447460685429\n",
      "employees age greater than 44 is: 0.15865525393145707\n"
     ]
    }
   ],
   "source": [
    "#A.\tMore employees at the processing center are older than 44 than between 38 and 44.\n",
    "\n",
    "a=stats.norm.cdf(44,38,6)\n",
    "a\n",
    "print(\"employees age less than 44 is:\",a)\n",
    "1-a\n",
    "print(\"employees age greater than 44 is:\",1-a)\n"
   ]
  },
  {
   "cell_type": "code",
   "execution_count": 20,
   "id": "a7e5303f",
   "metadata": {},
   "outputs": [
    {
     "name": "stdout",
     "output_type": "stream",
     "text": [
      "employees age less than 38 is: 0.5\n"
     ]
    }
   ],
   "source": [
    "b=stats.norm.cdf(38,38,6)\n",
    "b\n",
    "print(\"employees age less than 38 is:\",b)"
   ]
  },
  {
   "cell_type": "code",
   "execution_count": 21,
   "id": "04e00cb4",
   "metadata": {},
   "outputs": [
    {
     "name": "stdout",
     "output_type": "stream",
     "text": [
      "employees age between 38 and 44 is 0.3413447460685429\n"
     ]
    }
   ],
   "source": [
    "a-b\n",
    "print(\"employees age between 38 and 44 is\",a-b)"
   ]
  },
  {
   "cell_type": "raw",
   "id": "7eaf576d",
   "metadata": {},
   "source": [
    "Hence we can conclude that more employees at the processing center are older than 44 than between 38 and 44 is TRUE"
   ]
  },
  {
   "cell_type": "code",
   "execution_count": 22,
   "id": "f6d33c45",
   "metadata": {},
   "outputs": [
    {
     "data": {
      "text/plain": [
       "0.09121121972586788"
      ]
     },
     "execution_count": 22,
     "metadata": {},
     "output_type": "execute_result"
    }
   ],
   "source": [
    "# B. A training program for employees under the age of 30 at the center would be expected to attract about 36 employees.\n",
    "a=stats.norm.cdf(30,38,6)\n",
    "a"
   ]
  },
  {
   "cell_type": "code",
   "execution_count": 23,
   "id": "7cb90941",
   "metadata": {},
   "outputs": [
    {
     "data": {
      "text/plain": [
       "36.484487890347154"
      ]
     },
     "execution_count": 23,
     "metadata": {},
     "output_type": "execute_result"
    }
   ],
   "source": [
    "a*400"
   ]
  },
  {
   "cell_type": "raw",
   "id": "63112c95",
   "metadata": {},
   "source": [
    " So the number of employees with probability 0.912 of them being under age 30 = 0.0912*400=36.48( or 36 employees).\n",
    " \n",
    " Hence we can conclude that, A training program for employees under the age of 30 at the center would be expected to attract about 36 employees is TRUE"
   ]
  },
  {
   "cell_type": "markdown",
   "id": "c0c4babe",
   "metadata": {},
   "source": [
    "3.\tIf X1 ~ N(μ, σ2) and X2 ~ N(μ, σ2) are iid normal random variables, then what is the difference between 2 X1 and X1 + X2? Discuss both their distributions and parameters.       "
   ]
  },
  {
   "cell_type": "markdown",
   "id": "eed8dcc3",
   "metadata": {},
   "source": [
    "4.\tLet X ~ N(100, 20^2). Find two values, a and b, symmetric about the mean, such that the probability of the random variable taking a value between them is 0.99. \n",
    "\n",
    "A.\t90.5, 105.9 \n",
    "\n",
    "B.\t80.2, 119.8 \n",
    "\n",
    "C.\t22, 78 \n",
    "\n",
    "D.\t48.5, 151.5 \n",
    "\n",
    "E.\t90.1, 109.9\n",
    "\n",
    "A:  From the above data mean=100,std=20, probability=0.99\n"
   ]
  },
  {
   "cell_type": "code",
   "execution_count": 24,
   "id": "e1f0d703",
   "metadata": {},
   "outputs": [],
   "source": [
    "import pandas as pd\n",
    "import numpy as np\n",
    "import matplotlib.pyplot as plt\n",
    "import seaborn as sns\n",
    "from scipy import stats\n",
    "from scipy.stats import norm"
   ]
  },
  {
   "cell_type": "code",
   "execution_count": 25,
   "id": "42b827cd",
   "metadata": {},
   "outputs": [
    {
     "data": {
      "text/plain": [
       "(48.48341392902199, 151.516586070978)"
      ]
     },
     "execution_count": 25,
     "metadata": {},
     "output_type": "execute_result"
    }
   ],
   "source": [
    "stats.norm.interval(0.99,100,20)"
   ]
  },
  {
   "cell_type": "raw",
   "id": "118afe58",
   "metadata": {},
   "source": [
    "Hence the interval of the above data would be (48.48341392902199, 151.516586070978) i.e, option D"
   ]
  },
  {
   "cell_type": "markdown",
   "id": "17729ee8",
   "metadata": {},
   "source": [
    "5.\tConsider a company that has two different divisions. The annual profits from the two divisions are independent and have distributions Profit1 ~ N(5, 3^2) and Profit2 ~ N(7, 4^2) respectively. Both the profits are in $ Million. Answer the following questions about the total profit of the company in Rupees. Assume that $1 = Rs. 45\n",
    "A.\tSpecify a Rupee range (centered on the mean) such that it contains 95% probability for the annual profit of the company.\n",
    "B.\tSpecify the 5th percentile of profit (in Rupees) for the company\n",
    "C.\tWhich of the two divisions has a larger probability of making a loss in a given year?\n",
    "\n",
    "\n",
    "A: The annual profits from the two divisions are independent and have distributions \n",
    "      Profit1 ~ N(5, 32) and \n",
    "      Profit2 ~ N(7, 42) .\n",
    "      \n",
    "      For profit1 mean=5 and std=3\n",
    "      For profit2 mean=7 and std=4\n"
   ]
  },
  {
   "cell_type": "code",
   "execution_count": 26,
   "id": "1f4897ac",
   "metadata": {},
   "outputs": [],
   "source": [
    "import pandas as pd\n",
    "import numpy as np\n",
    "import matplotlib.pyplot as plt\n",
    "import seaborn as sns\n",
    "from scipy import stats\n",
    "from scipy.stats import norm"
   ]
  },
  {
   "cell_type": "code",
   "execution_count": 27,
   "id": "2ddc33da",
   "metadata": {},
   "outputs": [
    {
     "data": {
      "text/plain": [
       "(-1.7242081828148352, 11.724208182814841)"
      ]
     },
     "execution_count": 27,
     "metadata": {},
     "output_type": "execute_result"
    }
   ],
   "source": [
    "stats.norm.interval(0.975,loc=5,scale=3)"
   ]
  },
  {
   "cell_type": "code",
   "execution_count": 28,
   "id": "4c1f55e6",
   "metadata": {},
   "outputs": [
    {
     "data": {
      "text/plain": [
       "(-1.9656109104197803, 15.965610910419787)"
      ]
     },
     "execution_count": 28,
     "metadata": {},
     "output_type": "execute_result"
    }
   ],
   "source": [
    "stats.norm.interval(0.975,loc=7,scale=4)"
   ]
  },
  {
   "cell_type": "code",
   "execution_count": 29,
   "id": "c37cef82",
   "metadata": {},
   "outputs": [
    {
     "name": "stdout",
     "output_type": "stream",
     "text": [
      "Mean Profit is Rs 540 Million\n"
     ]
    }
   ],
   "source": [
    "# Mean profits from two different divisions of a company = Mean1 + Mean2\n",
    "Mean = 5+7\n",
    "print('Mean Profit is Rs', Mean*45,'Million')"
   ]
  },
  {
   "cell_type": "code",
   "execution_count": 30,
   "id": "538bfbf2",
   "metadata": {},
   "outputs": [
    {
     "name": "stdout",
     "output_type": "stream",
     "text": [
      "Standard Deviation is Rs 225.0 Million\n"
     ]
    }
   ],
   "source": [
    "# Variance of profits from two different divisions of a company = SD^2 = SD1^2 + SD2^2\n",
    "SD = np.sqrt((9)+(16))\n",
    "print('Standard Deviation is Rs', SD*45, 'Million')"
   ]
  },
  {
   "cell_type": "code",
   "execution_count": 31,
   "id": "c7b07423",
   "metadata": {},
   "outputs": [
    {
     "name": "stdout",
     "output_type": "stream",
     "text": [
      "Range is Rs (99.00810347848784, 980.9918965215122) in Millions\n"
     ]
    }
   ],
   "source": [
    "# A. Specify a Rupee range (centered on the mean) such that it contains 95% probability for the annual profit of the company.\n",
    "print('Range is Rs',(stats.norm.interval(0.95,540,225)),'in Millions')"
   ]
  },
  {
   "cell_type": "code",
   "execution_count": 32,
   "id": "b6a99e98",
   "metadata": {},
   "outputs": [
    {
     "name": "stdout",
     "output_type": "stream",
     "text": [
      "5th percentile of profit (in Million Rupees) is 170.0\n"
     ]
    }
   ],
   "source": [
    "# B. Specify the 5th percentile of profit (in Rupees) for the company\n",
    "# To compute 5th Percentile, we use the formula X=μ + Zσ; wherein from z table, 5 percentile = -1.645\n",
    "X= 540+(-1.645)*(225)\n",
    "print('5th percentile of profit (in Million Rupees) is',np.round(X,))\n",
    " "
   ]
  },
  {
   "cell_type": "code",
   "execution_count": 33,
   "id": "50e63c37",
   "metadata": {},
   "outputs": [
    {
     "name": "stdout",
     "output_type": "stream",
     "text": [
      "THE PROBABILITY OF DIVISION 1 MAKING A LOSS P(X<0) IS: 0.0477903522728147\n"
     ]
    }
   ],
   "source": [
    "# C. Which of the two divisions has a larger probability of making a loss in a given year?\n",
    "# Probability of Division 1 making a loss P(X<0)\n",
    "a=stats.norm.cdf(0,5,3)\n",
    "print(\"THE PROBABILITY OF DIVISION 1 MAKING A LOSS P(X<0) IS:\",a)"
   ]
  },
  {
   "cell_type": "code",
   "execution_count": 34,
   "id": "0c6d0017",
   "metadata": {},
   "outputs": [
    {
     "name": "stdout",
     "output_type": "stream",
     "text": [
      "THE PROBABILITY OF DIVISION 2 MAKING A LOSS P(X<0) IS: 0.040059156863817086\n"
     ]
    }
   ],
   "source": [
    "# Probability of Division 2 making a loss P(X<0)\n",
    "b=stats.norm.cdf(0,7,4)\n",
    "print(\"THE PROBABILITY OF DIVISION 2 MAKING A LOSS P(X<0) IS:\",b)"
   ]
  },
  {
   "cell_type": "markdown",
   "id": "c0302dfd",
   "metadata": {},
   "source": [
    "### ============================================================================================="
   ]
  },
  {
   "cell_type": "markdown",
   "id": "4b169b5f",
   "metadata": {},
   "source": [
    "### SET 04"
   ]
  },
  {
   "cell_type": "raw",
   "id": "c4c97287",
   "metadata": {},
   "source": [
    "3.\tAuditors at a small community bank randomly sample 100 withdrawal transactions made during the week at an ATM machine located near the bank’s main branch. Over the past 2 years, the average withdrawal amount has been $50 with a standard deviation of $40. Since audit investigations are typically expensive, the auditors decide to not initiate further investigations if the mean transaction amount of the sample is between $45 and $55. What is the probability that in any given week, there will be an investigation?\n",
    "\n",
    "A.\t1.25%\n",
    "B.\t2.5%\n",
    "C.\t10.55%\n",
    "D.\t21.1%\n",
    "E.\t50%\n",
    "\n",
    "A: From the given data :\n",
    "   mean=$50\n",
    "   std=$40\n",
    "   If the mean transaction amount is $45<x<$55(NO FUTHER INVESTIGATION WILL BE DONE)\n",
    "   If the mean transaction amount is not in range of $45<x<$55(FUTHER INVESTIGATION WILL BE DONE)\n"
   ]
  },
  {
   "cell_type": "code",
   "execution_count": 35,
   "id": "c3ead0a2",
   "metadata": {},
   "outputs": [],
   "source": [
    "import pandas as pd\n",
    "import numpy as np\n",
    "import matplotlib.pyplot as plt\n",
    "import seaborn as sns\n",
    "from scipy import stats\n",
    "from scipy.stats import norm\n",
    "import math"
   ]
  },
  {
   "cell_type": "code",
   "execution_count": 36,
   "id": "9a7bb262",
   "metadata": {},
   "outputs": [
    {
     "data": {
      "text/plain": [
       "1.25"
      ]
     },
     "execution_count": 36,
     "metadata": {},
     "output_type": "execute_result"
    }
   ],
   "source": [
    "Z1=(55-50)/(40/(100**0.5))\n",
    "Z1"
   ]
  },
  {
   "cell_type": "code",
   "execution_count": 37,
   "id": "e28f00b4",
   "metadata": {},
   "outputs": [
    {
     "data": {
      "text/plain": [
       "0.8943502263331446"
      ]
     },
     "execution_count": 37,
     "metadata": {},
     "output_type": "execute_result"
    }
   ],
   "source": [
    "#PROBABILITY THAT MEAN IS LESS THAN 55\n",
    "a=stats.norm.cdf(Z1)\n",
    "a"
   ]
  },
  {
   "cell_type": "code",
   "execution_count": 38,
   "id": "9e223432",
   "metadata": {},
   "outputs": [
    {
     "data": {
      "text/plain": [
       "-1.25"
      ]
     },
     "execution_count": 38,
     "metadata": {},
     "output_type": "execute_result"
    }
   ],
   "source": [
    "Z2=(45-50)/(40/(100**0.5))\n",
    "Z2"
   ]
  },
  {
   "cell_type": "code",
   "execution_count": 39,
   "id": "b79f9877",
   "metadata": {},
   "outputs": [
    {
     "data": {
      "text/plain": [
       "0.10564977366685535"
      ]
     },
     "execution_count": 39,
     "metadata": {},
     "output_type": "execute_result"
    }
   ],
   "source": [
    "#PROBABILITY THAT MEAN IS LESS THAN 55\n",
    "b=stats.norm.cdf(Z2)\n",
    "b"
   ]
  },
  {
   "cell_type": "code",
   "execution_count": 40,
   "id": "996b3dd4",
   "metadata": {},
   "outputs": [
    {
     "data": {
      "text/plain": [
       "0.7887004526662893"
      ]
     },
     "execution_count": 40,
     "metadata": {},
     "output_type": "execute_result"
    }
   ],
   "source": [
    "#PROBABILITY THAT MEAN IS IN BETWEEN (44<X<55)\n",
    "a-b"
   ]
  },
  {
   "cell_type": "code",
   "execution_count": 41,
   "id": "bf9bc49e",
   "metadata": {},
   "outputs": [
    {
     "data": {
      "text/plain": [
       "0.2112995473337107"
      ]
     },
     "execution_count": 41,
     "metadata": {},
     "output_type": "execute_result"
    }
   ],
   "source": [
    "#PROBABILITY THAT MEAN IS NOT IN BETWEEN (44<X<55)\n",
    "1-0.7887004526662893"
   ]
  },
  {
   "cell_type": "code",
   "execution_count": 42,
   "id": "dd7627df",
   "metadata": {},
   "outputs": [],
   "source": [
    "# 21.1% IS THE PROBABILITY THAT IN ANY GIVEN WEEK THERE WILL BE AN INVESTIGATION"
   ]
  },
  {
   "cell_type": "raw",
   "id": "336f80da",
   "metadata": {},
   "source": [
    "4.\tThe auditors from the above example would like to maintain the probability of investigation to 5%. Which of the following represents the minimum number transactions that they should sample if they do not want to change the thresholds of 45 and 55? Assume that the sample statistics remain unchanged.\n",
    "\n",
    "A.\t144\n",
    "B.\t150\n",
    "C.\t196\n",
    "D.\t250\n",
    "E.\tNot enough information\n",
    "\n",
    "\n",
    "A: From the given data :\n",
    "   mean=$50\n",
    "   std=$40\n",
    "   If the mean transaction amount is $45<x<$55(NO FUTHER INVESTIGATION WILL BE DONE)\n",
    "   If the mean transaction amount is not in range of $45<x<$55(FUTHER INVESTIGATION WILL BE DONE)\n",
    "   Probability of investigation at 5%"
   ]
  },
  {
   "cell_type": "code",
   "execution_count": 43,
   "id": "3e0775ec",
   "metadata": {},
   "outputs": [
    {
     "data": {
      "text/plain": [
       "[15.680000000000001]"
      ]
     },
     "execution_count": 43,
     "metadata": {},
     "output_type": "execute_result"
    }
   ],
   "source": [
    "#z score at 5% is 1.96\n",
    "#z=(x-mu)/(std/srrt(n))\n",
    "#1.96=(55-50)/(40/sqrt(n))\n",
    "#n**0.5=(1.96*40)/5\n",
    "n=[(1.96*40)/5]\n",
    "n\n"
   ]
  },
  {
   "cell_type": "code",
   "execution_count": 44,
   "id": "a75ef410",
   "metadata": {},
   "outputs": [
    {
     "name": "stdout",
     "output_type": "stream",
     "text": [
      "THE MINIMUN NO OF TRANSACTIONS: 245.86239999999998\n"
     ]
    }
   ],
   "source": [
    "n=15.68\n",
    "print(\"THE MINIMUN NO OF TRANSACTIONS:\",n**2)"
   ]
  },
  {
   "cell_type": "code",
   "execution_count": null,
   "id": "d9c49a78",
   "metadata": {},
   "outputs": [],
   "source": []
  },
  {
   "cell_type": "markdown",
   "id": "71017d25",
   "metadata": {},
   "source": [
    "### ============================================================="
   ]
  },
  {
   "cell_type": "code",
   "execution_count": null,
   "id": "99167ae5",
   "metadata": {},
   "outputs": [],
   "source": []
  }
 ],
 "metadata": {
  "kernelspec": {
   "display_name": "Python 3 (ipykernel)",
   "language": "python",
   "name": "python3"
  },
  "language_info": {
   "codemirror_mode": {
    "name": "ipython",
    "version": 3
   },
   "file_extension": ".py",
   "mimetype": "text/x-python",
   "name": "python",
   "nbconvert_exporter": "python",
   "pygments_lexer": "ipython3",
   "version": "3.9.7"
  }
 },
 "nbformat": 4,
 "nbformat_minor": 5
}
